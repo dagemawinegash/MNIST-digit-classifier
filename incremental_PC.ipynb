{
  "cells": [
    {
      "cell_type": "code",
      "execution_count": 1,
      "metadata": {
        "colab": {
          "base_uri": "https://localhost:8080/"
        },
        "id": "M-UK3szUbsHi",
        "outputId": "ee2e5bda-cb56-4ebf-c49d-6bac2452d792"
      },
      "outputs": [
        {
          "name": "stdout",
          "output_type": "stream",
          "text": [
            "Using device: cpu\n"
          ]
        }
      ],
      "source": [
        "import torch\n",
        "import torch.nn as nn\n",
        "import torchvision\n",
        "import torchvision.transforms as transforms\n",
        "import numpy as np\n",
        "import matplotlib.pyplot as plt\n",
        "from tqdm.notebook import tqdm\n",
        "\n",
        "# Check if GPU is available\n",
        "device = torch.device('cuda' if torch.cuda.is_available() else 'cpu')\n",
        "print(f\"Using device: {device}\")\n",
        "\n",
        "# to display matplotlib plots inline (directly below the cell)\n",
        "%matplotlib inline\n"
      ]
    },
    {
      "cell_type": "code",
      "execution_count": 2,
      "metadata": {
        "colab": {
          "base_uri": "https://localhost:8080/"
        },
        "id": "4712ZOKDb9GX",
        "outputId": "9234c00f-f424-4eb1-a3a6-92507f2fca42"
      },
      "outputs": [
        {
          "name": "stdout",
          "output_type": "stream",
          "text": [
            "Training dataset size: 60000\n",
            "Test dataset size:     10000\n",
            "Number of batches in training: 1875\n",
            "Number of batches in testing:  313\n"
          ]
        }
      ],
      "source": [
        "transform = transforms.Compose([\n",
        "    transforms.ToTensor(),\n",
        "    transforms.Normalize((0.1307,), (0.3081,))\n",
        "])\n",
        "\n",
        "# get the MNIST dataset\n",
        "train_dataset = torchvision.datasets.MNIST(\n",
        "    root='./data',\n",
        "    train=True,\n",
        "    transform=transform,\n",
        "    download=True\n",
        ")\n",
        "\n",
        "test_dataset = torchvision.datasets.MNIST(\n",
        "    root='./data',\n",
        "    train=False,\n",
        "    transform=transform\n",
        ")\n",
        "\n",
        "# create data loaders\n",
        "batch_size = 32\n",
        "train_loader = torch.utils.data.DataLoader(\n",
        "    dataset=train_dataset,\n",
        "    batch_size=batch_size,\n",
        "    shuffle=True\n",
        ")\n",
        "\n",
        "test_loader = torch.utils.data.DataLoader(\n",
        "    dataset=test_dataset,\n",
        "    batch_size=batch_size,\n",
        "    shuffle=False\n",
        ")\n",
        "\n",
        "print(f\"Training dataset size: {len(train_dataset)}\")\n",
        "print(f\"Test dataset size:     {len(test_dataset)}\")\n",
        "print(f\"Number of batches in training: {len(train_loader)}\")\n",
        "print(f\"Number of batches in testing:  {len(test_loader)}\")\n"
      ]
    },
    {
      "cell_type": "code",
      "execution_count": 4,
      "metadata": {
        "colab": {
          "base_uri": "https://localhost:8080/",
          "height": 410
        },
        "id": "fxBozLnmcHfA",
        "outputId": "fca6dbe4-fbbf-41e5-b415-c1d6e5844af9"
      },
      "outputs": [
        {
          "data": {
            "image/png": "[encoded data removed]",
            "text/plain": [
              "<Figure size 1200x400 with 12 Axes>"
            ]
          },
          "metadata": {},
          "output_type": "display_data"
        }
      ],
      "source": [
        "# get a batch of training data\n",
        "images, labels = next(iter(train_loader))\n",
        "\n",
        "fig = plt.figure(figsize=(12, 4))\n",
        "for i in range(12):\n",
        "    ax = fig.add_subplot(2, 6, i + 1)\n",
        "    # remove normalization\n",
        "    img = images[i].squeeze()\n",
        "    img = img * 0.3081 + 0.1307\n",
        "    ax.imshow(img, cmap='gray')\n",
        "    ax.set_title(f'Label: {labels[i].item()}')\n",
        "    ax.axis('off')\n",
        "plt.tight_layout()\n",
        "plt.show()\n"
      ]
    },
    {
      "cell_type": "code",
      "execution_count": 3,
      "metadata": {
        "colab": {
          "base_uri": "https://localhost:8080/"
        },
        "id": "vzcSzXQdcPST",
        "outputId": "f8c0e807-cd95-43e2-e2b4-69926a90fa44"
      },
      "outputs": [
        {
          "name": "stdout",
          "output_type": "stream",
          "text": [
            "PCMNISTNet(\n",
            "  (W1): Linear(in_features=784, out_features=256, bias=False)\n",
            "  (W2): Linear(in_features=256, out_features=128, bias=False)\n",
            "  (W3): Linear(in_features=128, out_features=64, bias=False)\n",
            "  (W4): Linear(in_features=64, out_features=10, bias=False)\n",
            "  (L2): Linear(in_features=128, out_features=128, bias=False)\n",
            "  (L3): Linear(in_features=64, out_features=64, bias=False)\n",
            ")\n"
          ]
        }
      ],
      "source": [
        "class PCMNISTNet(nn.Module):\n",
        "    def __init__(self):\n",
        "        super(PCMNISTNet, self).__init__()\n",
        "        self.W1 = nn.Linear(28*28, 256, bias=False)\n",
        "        self.W2 = nn.Linear(256, 128, bias=False)\n",
        "        self.W3 = nn.Linear(128, 64, bias=False)\n",
        "        self.W4 = nn.Linear(64, 10, bias=False)\n",
        "        # lateral connections for hidden layers 2 and 3\n",
        "        self.L2 = nn.Linear(128, 128, bias=False)\n",
        "        self.L3 = nn.Linear(64, 64, bias=False)\n",
        "        for layer in [self.L2, self.L3]:\n",
        "            nn.init.normal_(layer.weight, mean=0.0, std=0.01)\n",
        "            mask = ~torch.eye(layer.weight.shape[0], dtype=torch.bool)\n",
        "            layer.weight.data *= mask # to avoid self connection\n",
        "        self.act = torch.relu\n",
        "\n",
        "    def predict(self, x, lateral_strength=0.1):\n",
        "        # forward pass to initialize latent states\n",
        "        z0 = x.view(x.size(0), -1)\n",
        "        z1 = self.act(self.W1(z0))\n",
        "        z2_ff = self.act(self.W2(z1))\n",
        "        lat2 = self.act(self.L2(z2_ff))\n",
        "        z2 = z2_ff + lateral_strength * lat2\n",
        "        z3_ff = self.act(self.W3(z2))\n",
        "        lat3 = self.act(self.L3(z3_ff))\n",
        "        z3 = z3_ff + lateral_strength * lat3\n",
        "        z4 = self.W4(z3) # we want raw outputs here so no activation\n",
        "        return [z0, z1, z2, z3, z4]\n",
        "\n",
        "# Instantiate model\n",
        "model = PCMNISTNet().to(device)\n",
        "print(model)"
      ]
    },
    {
      "cell_type": "code",
      "execution_count": 4,
      "metadata": {
        "id": "IiP1zTSHcVNA"
      },
      "outputs": [],
      "source": [
        "inference_steps = 10\n",
        "alpha = 0.05   # latent state learning rate\n",
        "eta_weight = 0.01  # feed-forward weight learning rate\n",
        "eta_lateral = 0.001  # lateral‑weight learning rate\n",
        "lateral_strength = 0.1\n",
        "\n",
        "@torch.no_grad()\n",
        "def pc_train_batch(model, x, y_onehot):\n",
        "    zs = model.predict(x, lateral_strength=lateral_strength)\n",
        "    Ws = [model.W1, model.W2, model.W3, model.W4]\n",
        "    Ls = [model.L2, model.L3]\n",
        "    L  = len(Ws)\n",
        "    zs[L] = y_onehot # clamps z4 with the true labels\n",
        "\n",
        "    for _ in range(inference_steps):\n",
        "        errors = [None]*(L+1)\n",
        "        for l in range(1, L+1):\n",
        "            if l < L:\n",
        "                ff_pred = model.act(Ws[l-1](zs[l-1]))\n",
        "                if l == 2:\n",
        "                    lat_pred = model.act(Ls[0](zs[l]))\n",
        "                    pred = ff_pred + lateral_strength * lat_pred\n",
        "                elif l == 3:\n",
        "                    lat_pred = model.act(Ls[1](zs[l]))\n",
        "                    pred = ff_pred + lateral_strength * lat_pred\n",
        "                else:\n",
        "                    pred = ff_pred\n",
        "            else:\n",
        "                pred = Ws[l-1](zs[l-1])\n",
        "            errors[l] = zs[l] - pred\n",
        "\n",
        "        # updating the activation states of the hidden layers, Feed-forward and lateral weights\n",
        "        for l in range(1, L):\n",
        "            # the layer aligning itself with what the layer below says it should be\n",
        "            td = -errors[l]\n",
        "            # push zl in the direction that would reduce the error one layer up\n",
        "            bu = errors[l+1] @ Ws[l].weight\n",
        "            if l == 2:\n",
        "                lat = lateral_strength * (errors[l] @ Ls[0].weight)\n",
        "                zs[l] += alpha * (td + bu + lat)\n",
        "            elif l == 3:\n",
        "                lat = lateral_strength * (errors[l] @ Ls[1].weight)\n",
        "                zs[l] += alpha * (td + bu + lat)\n",
        "            else:\n",
        "                zs[l] += alpha * (td + bu)\n",
        "\n",
        "            # Incremental feedforward‐weight update\n",
        "            grad_W = errors[l+1].t() @ zs[l]\n",
        "            Ws[l].weight.data += eta_weight * (grad_W / x.size(0))\n",
        "\n",
        "            # Incremental lateral weight update\n",
        "            if l in (2, 3):\n",
        "                idx = l - 2  # 0 for layer2, 1 for layer3\n",
        "                L_layer = Ls[idx]\n",
        "                grad_L = errors[l].t() @ zs[l]\n",
        "                mask = ~torch.eye(L_layer.weight.shape[0], dtype=torch.bool, device=grad_L.device)\n",
        "                grad_L *= mask\n",
        "                L_layer.weight.data += eta_lateral * (grad_L / x.size(0))\n",
        "\n",
        "    final_errors = []\n",
        "    for l in range(1, L+1):\n",
        "        if l < L:\n",
        "            ff = model.act(Ws[l-1](zs[l-1]))\n",
        "            if   l == 2: lat = lateral_strength * model.act(Ls[0](zs[l]))\n",
        "            elif l == 3: lat = lateral_strength * model.act(Ls[1](zs[l]))\n",
        "            else:        lat = 0.0\n",
        "            pred = ff + lat\n",
        "        else:\n",
        "            pred = Ws[l-1](zs[l-1])\n",
        "        final_errors.append(zs[l] - pred)\n",
        "\n",
        "    return final_errors, zs\n"
      ]
    },
    {
      "cell_type": "code",
      "execution_count": 5,
      "metadata": {
        "colab": {
          "base_uri": "https://localhost:8080/",
          "height": 556,
          "referenced_widgets": [
            "8caf478b9cbe4cdfb91d3b597ac2b7db",
            "91ec9bd20c1a494ab9339f6806da06c7",
            "a4a8dacdb4bc471b9a56b2258ef8cf94",
            "dfa9b9c9b54a444394897c8243ac71eb",
            "aafc1003faa94c99a72fdb8ec26603af",
            "f5c54c4755bf405fbc057d5ba313e43f",
            "44c37e020e6c41bf99c5b447deae442b",
            "822768e7fca74af388130739c1865e59",
            "627d99fdc23d4e9a8c02c3f9aad9ce78",
            "4eecc3ac07e747fb85c1386259247e75",
            "f0199d23a09f4410b350a5b7bc0d5808",
            "cfd18957e36f406aabda7fffed88f9f0",
            "3e2c75df118242c8939b85114892cda2",
            "94fe90acfdb845ffa6e6195a625f95e9",
            "a15c5b76559441e88636f0571df27c60",
            "c36b78ba170941769807f6cec1a42d43",
            "003f41fce53d410ba5574291f02b458d",
            "34f294bb625544ae834bcaf3116417ef",
            "101b39654b7743e3bf229181c1204956",
            "876f5a9d98ec48de9291cde244115b0c",
            "78ace3993f564a618631759038028337",
            "bc86611696a24368b10b5f92a9f358ef",
            "9bbc4a346a3e4d54bf5d507dcd477d78",
            "2b920aecdc404a77a91aa02316366cc2",
            "652eda3eb1ab49fbb462f83f1fd9227e",
            "e8f36bb6d7e84a30a600206156877ac0",
            "65453b1749304793bcaecbf7305cd4e5",
            "9896bf85c85b426ba22400bb5164967c",
            "f7d582da52f2457ca3fe4b102c4e366a",
            "d77e60c14c764cc5b5789f12a68f3c38",
            "c34db15e982d478caff269d6220ed200",
            "b5f4b0b8a227477eb43351283f40024b",
            "c8aa8155c23b48dea4a1fb3e65e89de3"
          ]
        },
        "id": "PBHUleLmc8rK",
        "outputId": "a2ea9fbb-4132-4dbf-ee73-83be3f85a6b9"
      },
      "outputs": [
        {
          "data": {
            "application/vnd.jupyter.widget-view+json": {
              "model_id": "1f0aced9db9f4489be829dddda848126",
              "version_major": 2,
              "version_minor": 0
            },
            "text/plain": [
              "Epoch 1:   0%|          | 0/1875 [00:00<?, ?it/s]"
            ]
          },
          "metadata": {},
          "output_type": "display_data"
        },
        {
          "name": "stdout",
          "output_type": "stream",
          "text": [
            "Epoch 1:\n",
            "  Prediction error: 0.0608\n",
            "  Test accuracy: 0.8039\n"
          ]
        },
        {
          "data": {
            "application/vnd.jupyter.widget-view+json": {
              "model_id": "c177aab8c3054c88bb08dff211174005",
              "version_major": 2,
              "version_minor": 0
            },
            "text/plain": [
              "Epoch 2:   0%|          | 0/1875 [00:00<?, ?it/s]"
            ]
          },
          "metadata": {},
          "output_type": "display_data"
        },
        {
          "name": "stdout",
          "output_type": "stream",
          "text": [
            "Epoch 2:\n",
            "  Prediction error: 0.0191\n",
            "  Test accuracy: 0.8341\n"
          ]
        },
        {
          "data": {
            "application/vnd.jupyter.widget-view+json": {
              "model_id": "ed0acd9d7cfc49b1aec40f98738812c9",
              "version_major": 2,
              "version_minor": 0
            },
            "text/plain": [
              "Epoch 3:   0%|          | 0/1875 [00:00<?, ?it/s]"
            ]
          },
          "metadata": {},
          "output_type": "display_data"
        },
        {
          "name": "stdout",
          "output_type": "stream",
          "text": [
            "Epoch 3:\n",
            "  Prediction error: 0.0139\n",
            "  Test accuracy: 0.8399\n"
          ]
        },
        {
          "data": {
            "application/vnd.jupyter.widget-view+json": {
              "model_id": "b1a53409da8341d1bfd9991652e8a869",
              "version_major": 2,
              "version_minor": 0
            },
            "text/plain": [
              "Epoch 4:   0%|          | 0/1875 [00:00<?, ?it/s]"
            ]
          },
          "metadata": {},
          "output_type": "display_data"
        },
        {
          "name": "stdout",
          "output_type": "stream",
          "text": [
            "Epoch 4:\n",
            "  Prediction error: 0.0117\n",
            "  Test accuracy: 0.8388\n"
          ]
        },
        {
          "data": {
            "application/vnd.jupyter.widget-view+json": {
              "model_id": "60c494bdac714695a067241808523f67",
              "version_major": 2,
              "version_minor": 0
            },
            "text/plain": [
              "Epoch 5:   0%|          | 0/1875 [00:00<?, ?it/s]"
            ]
          },
          "metadata": {},
          "output_type": "display_data"
        },
        {
          "name": "stdout",
          "output_type": "stream",
          "text": [
            "Epoch 5:\n",
            "  Prediction error: 0.0105\n",
            "  Test accuracy: 0.8255\n"
          ]
        }
      ],
      "source": [
        "num_epochs = 5\n",
        "prediction_errors = []\n",
        "test_accuracies = []\n",
        "\n",
        "for epoch in range(1, num_epochs+1):\n",
        "    total_error = 0.0\n",
        "    batches = 0\n",
        "\n",
        "    model.train()\n",
        "    for images, labels in tqdm(train_loader, desc=f\"Epoch {epoch}\"):\n",
        "        images, labels = images.to(device), labels.to(device)\n",
        "        y_onehot = torch.zeros(images.size(0), 10, device=device)\n",
        "        y_onehot.scatter_(1, labels.view(-1,1), 1.0)\n",
        "\n",
        "        final_errors, _ = pc_train_batch(model, images, y_onehot)\n",
        "        batch_error = final_errors[-1].abs().mean().item() # computes the average absolute error across the batch\n",
        "        total_error += batch_error\n",
        "        batches += 1\n",
        "\n",
        "    avg_error = total_error / batches\n",
        "    prediction_errors.append(avg_error)\n",
        "\n",
        "    # Test accuracy\n",
        "    model.eval()\n",
        "    test_correct = 0\n",
        "    test_total = 0\n",
        "    with torch.no_grad():\n",
        "        for images, labels in test_loader:\n",
        "            images, labels = images.to(device), labels.to(device)\n",
        "            zs = model.predict(images)\n",
        "            preds = zs[-1].argmax(dim=1) # changes logits to classes\n",
        "            test_correct += (preds == labels).sum().item()\n",
        "            test_total += labels.size(0)\n",
        "\n",
        "    test_acc = test_correct / test_total\n",
        "    test_accuracies.append(test_acc)\n",
        "\n",
        "    print(f\"Epoch {epoch}:\")\n",
        "    print(f\"  Prediction error: {avg_error:.4f}\")\n",
        "    print(f\"  Test accuracy: {test_acc:.4f}\")"
      ]
    },
    {
      "cell_type": "code",
      "execution_count": 6,
      "metadata": {
        "colab": {
          "base_uri": "https://localhost:8080/"
        },
        "id": "H22qrwjcc-n7",
        "outputId": "30a395f3-e4c8-4005-fd4c-7d7bd03c4332"
      },
      "outputs": [
        {
          "name": "stdout",
          "output_type": "stream",
          "text": [
            "Test accuracy: 0.8255\n"
          ]
        }
      ],
      "source": [
        "model.eval()\n",
        "correct = 0\n",
        "total = 0\n",
        "with torch.no_grad():\n",
        "    for images, labels in test_loader:\n",
        "        images, labels = images.to(device), labels.to(device)\n",
        "        zs = model.predict(images)\n",
        "        preds = zs[-1].argmax(dim=1)\n",
        "        correct += (preds == labels).sum().item()\n",
        "        total += labels.size(0)\n",
        "\n",
        "print(f\"Test accuracy: {correct/total:.4f}\")\n"
      ]
    },
    {
      "cell_type": "code",
      "execution_count": 13,
      "metadata": {
        "colab": {
          "base_uri": "https://localhost:8080/",
          "height": 290
        },
        "id": "BkhP81MplDPn",
        "outputId": "c029ea41-b33c-4c6a-bffa-30e9ecbd70fe"
      },
      "outputs": [
        {
          "data": {
            "image/png": "[encoded data removed]",
            "text/plain": [
              "<Figure size 1000x300 with 12 Axes>"
            ]
          },
          "metadata": {},
          "output_type": "display_data"
        }
      ],
      "source": [
        "import random\n",
        "\n",
        "test_batches = list(test_loader)\n",
        "test_images, test_labels = random.choice(test_batches)\n",
        "test_images = test_images.to(device)\n",
        "zs = model.predict(test_images)\n",
        "preds = zs[-1].argmax(dim=1)\n",
        "\n",
        "fig = plt.figure(figsize=(10, 3))\n",
        "for i in range(12):\n",
        "    ax = fig.add_subplot(2, 6, i + 1)\n",
        "    img = test_images[i].cpu().squeeze() * 0.3081 + 0.1307\n",
        "    ax.imshow(img, cmap='gray')\n",
        "    color = 'green' if preds[i]==test_labels[i] else 'red'\n",
        "    ax.set_title(f\"P:{preds[i].item()} T:{test_labels[i].item()}\", color=color)\n",
        "    ax.axis('off')\n",
        "plt.show()\n"
      ]
    },
    {
      "cell_type": "code",
      "execution_count": 14,
      "metadata": {
        "colab": {
          "base_uri": "https://localhost:8080/",
          "height": 1000
        },
        "id": "dO1r_3FllEvx",
        "outputId": "7c93ee7d-7cc2-43df-a6b3-19dfee21c25c"
      },
      "outputs": [
        {
          "data": {
            "image/png": "[encoded data removed]",
            "text/plain": [
              "<Figure size 1500x1000 with 5 Axes>"
            ]
          },
          "metadata": {},
          "output_type": "display_data"
        },
        {
          "name": "stdout",
          "output_type": "stream",
          "text": [
            "\n",
            "Per-class accuracies:\n",
            "Digit 0: 0.8531\n",
            "Digit 1: 0.9824\n",
            "Digit 2: 0.7054\n",
            "Digit 3: 0.7941\n",
            "Digit 4: 0.8697\n",
            "Digit 5: 0.7556\n",
            "Digit 6: 0.8946\n",
            "Digit 7: 0.8687\n",
            "Digit 8: 0.8162\n",
            "Digit 9: 0.6947\n"
          ]
        }
      ],
      "source": [
        "plt.figure(figsize=(15, 10))\n",
        "\n",
        "# Plot 1: Prediction Error\n",
        "plt.subplot(2, 2, 1)\n",
        "plt.plot(range(1, num_epochs + 1), prediction_errors, 'b-', label='Prediction Error')\n",
        "plt.title('Prediction Error over Epochs')\n",
        "plt.xlabel('Epoch')\n",
        "plt.ylabel('Error')\n",
        "plt.grid(True)\n",
        "plt.legend()\n",
        "\n",
        "# Plot 2: Test Accuracy\n",
        "plt.subplot(2, 2, 2)\n",
        "plt.plot(range(1, num_epochs + 1), test_accuracies, 'r-', label='Test Accuracy')\n",
        "plt.title('Test Accuracy over Epochs')\n",
        "plt.xlabel('Epoch')\n",
        "plt.ylabel('Accuracy')\n",
        "plt.grid(True)\n",
        "plt.legend()\n",
        "\n",
        "# Plot 3: Confusion Matrix\n",
        "plt.subplot(2, 2, 3)\n",
        "model.eval()\n",
        "y_true = []\n",
        "y_pred = []\n",
        "with torch.no_grad():\n",
        "    for images, labels in test_loader:\n",
        "        images, labels = images.to(device), labels.to(device)\n",
        "        zs = model.predict(images)\n",
        "        preds = zs[-1].argmax(dim=1)\n",
        "        y_true.extend(labels.cpu().numpy())\n",
        "        y_pred.extend(preds.cpu().numpy())\n",
        "\n",
        "conf_matrix = np.zeros((10, 10))\n",
        "for t, p in zip(y_true, y_pred):\n",
        "    conf_matrix[t, p] += 1\n",
        "\n",
        "plt.xticks(np.arange(10), [str(i) for i in range(10)])\n",
        "plt.yticks(np.arange(10), [str(i) for i in range(10)])\n",
        "plt.imshow(conf_matrix, interpolation='nearest', cmap='Blues')\n",
        "plt.title('Confusion Matrix')\n",
        "plt.colorbar()\n",
        "plt.xlabel('Predicted')\n",
        "plt.ylabel('True')\n",
        "\n",
        "# Plot 4: Per-Class Accuracy\n",
        "plt.subplot(2, 2, 4)\n",
        "per_class_acc = conf_matrix.diagonal() / conf_matrix.sum(axis=1)\n",
        "plt.bar(range(10), per_class_acc)\n",
        "plt.title('Per-Class Accuracy')\n",
        "plt.xlabel('Digit')\n",
        "plt.ylabel('Accuracy')\n",
        "plt.ylim(0, 1)\n",
        "plt.xticks(np.arange(10), [str(i) for i in range(10)])\n",
        "plt.tight_layout()\n",
        "plt.show()\n",
        "\n",
        "print(\"\\nPer-class accuracies:\")\n",
        "for digit, acc in enumerate(per_class_acc):\n",
        "    print(f\"Digit {digit}: {acc:.4f}\")\n"
      ]
    },
    {
      "cell_type": "code",
      "execution_count": null,
      "metadata": {
        "id": "JoGQkkselN2e"
      },
      "outputs": [],
      "source": []
    }
  ],
  "metadata": {
    "accelerator": "GPU",
    "colab": {
      "gpuType": "T4",
      "provenance": []
    },
    "kernelspec": {
      "display_name": "venv",
      "language": "python",
      "name": "python3"
    },
    "language_info": {
      "codemirror_mode": {
        "name": "ipython",
        "version": 3
      },
      "file_extension": ".py",
      "mimetype": "text/x-python",
      "name": "python",
      "nbconvert_exporter": "python",
      "pygments_lexer": "ipython3",
      "version": "3.12.1"
    },
    "widgets": {
      "application/vnd.jupyter.widget-state+json": {
        "003f41fce53d410ba5574291f02b458d": {
          "model_module": "@jupyter-widgets/base",
          "model_module_version": "1.2.0",
          "model_name": "LayoutModel",
          "state": {
            "_model_module": "@jupyter-widgets/base",
            "_model_module_version": "1.2.0",
            "_model_name": "LayoutModel",
            "_view_count": null,
            "_view_module": "@jupyter-widgets/base",
            "_view_module_version": "1.2.0",
            "_view_name": "LayoutView",
            "align_content": null,
            "align_items": null,
            "align_self": null,
            "border": null,
            "bottom": null,
            "display": null,
            "flex": null,
            "flex_flow": null,
            "grid_area": null,
            "grid_auto_columns": null,
            "grid_auto_flow": null,
            "grid_auto_rows": null,
            "grid_column": null,
            "grid_gap": null,
            "grid_row": null,
            "grid_template_areas": null,
            "grid_template_columns": null,
            "grid_template_rows": null,
            "height": null,
            "justify_content": null,
            "justify_items": null,
            "left": null,
            "margin": null,
            "max_height": null,
            "max_width": null,
            "min_height": null,
            "min_width": null,
            "object_fit": null,
            "object_position": null,
            "order": null,
            "overflow": null,
            "overflow_x": null,
            "overflow_y": null,
            "padding": null,
            "right": null,
            "top": null,
            "visibility": null,
            "width": null
          }
        },
        "101b39654b7743e3bf229181c1204956": {
          "model_module": "@jupyter-widgets/base",
          "model_module_version": "1.2.0",
          "model_name": "LayoutModel",
          "state": {
            "_model_module": "@jupyter-widgets/base",
            "_model_module_version": "1.2.0",
            "_model_name": "LayoutModel",
            "_view_count": null,
            "_view_module": "@jupyter-widgets/base",
            "_view_module_version": "1.2.0",
            "_view_name": "LayoutView",
            "align_content": null,
            "align_items": null,
            "align_self": null,
            "border": null,
            "bottom": null,
            "display": null,
            "flex": null,
            "flex_flow": null,
            "grid_area": null,
            "grid_auto_columns": null,
            "grid_auto_flow": null,
            "grid_auto_rows": null,
            "grid_column": null,
            "grid_gap": null,
            "grid_row": null,
            "grid_template_areas": null,
            "grid_template_columns": null,
            "grid_template_rows": null,
            "height": null,
            "justify_content": null,
            "justify_items": null,
            "left": null,
            "margin": null,
            "max_height": null,
            "max_width": null,
            "min_height": null,
            "min_width": null,
            "object_fit": null,
            "object_position": null,
            "order": null,
            "overflow": null,
            "overflow_x": null,
            "overflow_y": null,
            "padding": null,
            "right": null,
            "top": null,
            "visibility": null,
            "width": null
          }
        },
        "2b920aecdc404a77a91aa02316366cc2": {
          "model_module": "@jupyter-widgets/controls",
          "model_module_version": "1.5.0",
          "model_name": "HTMLModel",
          "state": {
            "_dom_classes": [],
            "_model_module": "@jupyter-widgets/controls",
            "_model_module_version": "1.5.0",
            "_model_name": "HTMLModel",
            "_view_count": null,
            "_view_module": "@jupyter-widgets/controls",
            "_view_module_version": "1.5.0",
            "_view_name": "HTMLView",
            "description": "",
            "description_tooltip": null,
            "layout": "IPY_MODEL_9896bf85c85b426ba22400bb5164967c",
            "placeholder": "​",
            "style": "IPY_MODEL_f7d582da52f2457ca3fe4b102c4e366a",
            "value": "Epoch 3:  41%"
          }
        },
        "34f294bb625544ae834bcaf3116417ef": {
          "model_module": "@jupyter-widgets/controls",
          "model_module_version": "1.5.0",
          "model_name": "DescriptionStyleModel",
          "state": {
            "_model_module": "@jupyter-widgets/controls",
            "_model_module_version": "1.5.0",
            "_model_name": "DescriptionStyleModel",
            "_view_count": null,
            "_view_module": "@jupyter-widgets/base",
            "_view_module_version": "1.2.0",
            "_view_name": "StyleView",
            "description_width": ""
          }
        },
        "3e2c75df118242c8939b85114892cda2": {
          "model_module": "@jupyter-widgets/controls",
          "model_module_version": "1.5.0",
          "model_name": "HTMLModel",
          "state": {
            "_dom_classes": [],
            "_model_module": "@jupyter-widgets/controls",
            "_model_module_version": "1.5.0",
            "_model_name": "HTMLModel",
            "_view_count": null,
            "_view_module": "@jupyter-widgets/controls",
            "_view_module_version": "1.5.0",
            "_view_name": "HTMLView",
            "description": "",
            "description_tooltip": null,
            "layout": "IPY_MODEL_003f41fce53d410ba5574291f02b458d",
            "placeholder": "​",
            "style": "IPY_MODEL_34f294bb625544ae834bcaf3116417ef",
            "value": "Epoch 2: 100%"
          }
        },
        "44c37e020e6c41bf99c5b447deae442b": {
          "model_module": "@jupyter-widgets/controls",
          "model_module_version": "1.5.0",
          "model_name": "DescriptionStyleModel",
          "state": {
            "_model_module": "@jupyter-widgets/controls",
            "_model_module_version": "1.5.0",
            "_model_name": "DescriptionStyleModel",
            "_view_count": null,
            "_view_module": "@jupyter-widgets/base",
            "_view_module_version": "1.2.0",
            "_view_name": "StyleView",
            "description_width": ""
          }
        },
        "4eecc3ac07e747fb85c1386259247e75": {
          "model_module": "@jupyter-widgets/base",
          "model_module_version": "1.2.0",
          "model_name": "LayoutModel",
          "state": {
            "_model_module": "@jupyter-widgets/base",
            "_model_module_version": "1.2.0",
            "_model_name": "LayoutModel",
            "_view_count": null,
            "_view_module": "@jupyter-widgets/base",
            "_view_module_version": "1.2.0",
            "_view_name": "LayoutView",
            "align_content": null,
            "align_items": null,
            "align_self": null,
            "border": null,
            "bottom": null,
            "display": null,
            "flex": null,
            "flex_flow": null,
            "grid_area": null,
            "grid_auto_columns": null,
            "grid_auto_flow": null,
            "grid_auto_rows": null,
            "grid_column": null,
            "grid_gap": null,
            "grid_row": null,
            "grid_template_areas": null,
            "grid_template_columns": null,
            "grid_template_rows": null,
            "height": null,
            "justify_content": null,
            "justify_items": null,
            "left": null,
            "margin": null,
            "max_height": null,
            "max_width": null,
            "min_height": null,
            "min_width": null,
            "object_fit": null,
            "object_position": null,
            "order": null,
            "overflow": null,
            "overflow_x": null,
            "overflow_y": null,
            "padding": null,
            "right": null,
            "top": null,
            "visibility": null,
            "width": null
          }
        },
        "627d99fdc23d4e9a8c02c3f9aad9ce78": {
          "model_module": "@jupyter-widgets/controls",
          "model_module_version": "1.5.0",
          "model_name": "ProgressStyleModel",
          "state": {
            "_model_module": "@jupyter-widgets/controls",
            "_model_module_version": "1.5.0",
            "_model_name": "ProgressStyleModel",
            "_view_count": null,
            "_view_module": "@jupyter-widgets/base",
            "_view_module_version": "1.2.0",
            "_view_name": "StyleView",
            "bar_color": null,
            "description_width": ""
          }
        },
        "652eda3eb1ab49fbb462f83f1fd9227e": {
          "model_module": "@jupyter-widgets/controls",
          "model_module_version": "1.5.0",
          "model_name": "FloatProgressModel",
          "state": {
            "_dom_classes": [],
            "_model_module": "@jupyter-widgets/controls",
            "_model_module_version": "1.5.0",
            "_model_name": "FloatProgressModel",
            "_view_count": null,
            "_view_module": "@jupyter-widgets/controls",
            "_view_module_version": "1.5.0",
            "_view_name": "ProgressView",
            "bar_style": "danger",
            "description": "",
            "description_tooltip": null,
            "layout": "IPY_MODEL_d77e60c14c764cc5b5789f12a68f3c38",
            "max": 1875,
            "min": 0,
            "orientation": "horizontal",
            "style": "IPY_MODEL_c34db15e982d478caff269d6220ed200",
            "value": 770
          }
        },
        "65453b1749304793bcaecbf7305cd4e5": {
          "model_module": "@jupyter-widgets/base",
          "model_module_version": "1.2.0",
          "model_name": "LayoutModel",
          "state": {
            "_model_module": "@jupyter-widgets/base",
            "_model_module_version": "1.2.0",
            "_model_name": "LayoutModel",
            "_view_count": null,
            "_view_module": "@jupyter-widgets/base",
            "_view_module_version": "1.2.0",
            "_view_name": "LayoutView",
            "align_content": null,
            "align_items": null,
            "align_self": null,
            "border": null,
            "bottom": null,
            "display": null,
            "flex": null,
            "flex_flow": null,
            "grid_area": null,
            "grid_auto_columns": null,
            "grid_auto_flow": null,
            "grid_auto_rows": null,
            "grid_column": null,
            "grid_gap": null,
            "grid_row": null,
            "grid_template_areas": null,
            "grid_template_columns": null,
            "grid_template_rows": null,
            "height": null,
            "justify_content": null,
            "justify_items": null,
            "left": null,
            "margin": null,
            "max_height": null,
            "max_width": null,
            "min_height": null,
            "min_width": null,
            "object_fit": null,
            "object_position": null,
            "order": null,
            "overflow": null,
            "overflow_x": null,
            "overflow_y": null,
            "padding": null,
            "right": null,
            "top": null,
            "visibility": null,
            "width": null
          }
        },
        "78ace3993f564a618631759038028337": {
          "model_module": "@jupyter-widgets/base",
          "model_module_version": "1.2.0",
          "model_name": "LayoutModel",
          "state": {
            "_model_module": "@jupyter-widgets/base",
            "_model_module_version": "1.2.0",
            "_model_name": "LayoutModel",
            "_view_count": null,
            "_view_module": "@jupyter-widgets/base",
            "_view_module_version": "1.2.0",
            "_view_name": "LayoutView",
            "align_content": null,
            "align_items": null,
            "align_self": null,
            "border": null,
            "bottom": null,
            "display": null,
            "flex": null,
            "flex_flow": null,
            "grid_area": null,
            "grid_auto_columns": null,
            "grid_auto_flow": null,
            "grid_auto_rows": null,
            "grid_column": null,
            "grid_gap": null,
            "grid_row": null,
            "grid_template_areas": null,
            "grid_template_columns": null,
            "grid_template_rows": null,
            "height": null,
            "justify_content": null,
            "justify_items": null,
            "left": null,
            "margin": null,
            "max_height": null,
            "max_width": null,
            "min_height": null,
            "min_width": null,
            "object_fit": null,
            "object_position": null,
            "order": null,
            "overflow": null,
            "overflow_x": null,
            "overflow_y": null,
            "padding": null,
            "right": null,
            "top": null,
            "visibility": null,
            "width": null
          }
        },
        "822768e7fca74af388130739c1865e59": {
          "model_module": "@jupyter-widgets/base",
          "model_module_version": "1.2.0",
          "model_name": "LayoutModel",
          "state": {
            "_model_module": "@jupyter-widgets/base",
            "_model_module_version": "1.2.0",
            "_model_name": "LayoutModel",
            "_view_count": null,
            "_view_module": "@jupyter-widgets/base",
            "_view_module_version": "1.2.0",
            "_view_name": "LayoutView",
            "align_content": null,
            "align_items": null,
            "align_self": null,
            "border": null,
            "bottom": null,
            "display": null,
            "flex": null,
            "flex_flow": null,
            "grid_area": null,
            "grid_auto_columns": null,
            "grid_auto_flow": null,
            "grid_auto_rows": null,
            "grid_column": null,
            "grid_gap": null,
            "grid_row": null,
            "grid_template_areas": null,
            "grid_template_columns": null,
            "grid_template_rows": null,
            "height": null,
            "justify_content": null,
            "justify_items": null,
            "left": null,
            "margin": null,
            "max_height": null,
            "max_width": null,
            "min_height": null,
            "min_width": null,
            "object_fit": null,
            "object_position": null,
            "order": null,
            "overflow": null,
            "overflow_x": null,
            "overflow_y": null,
            "padding": null,
            "right": null,
            "top": null,
            "visibility": null,
            "width": null
          }
        },
        "876f5a9d98ec48de9291cde244115b0c": {
          "model_module": "@jupyter-widgets/controls",
          "model_module_version": "1.5.0",
          "model_name": "ProgressStyleModel",
          "state": {
            "_model_module": "@jupyter-widgets/controls",
            "_model_module_version": "1.5.0",
            "_model_name": "ProgressStyleModel",
            "_view_count": null,
            "_view_module": "@jupyter-widgets/base",
            "_view_module_version": "1.2.0",
            "_view_name": "StyleView",
            "bar_color": null,
            "description_width": ""
          }
        },
        "8caf478b9cbe4cdfb91d3b597ac2b7db": {
          "model_module": "@jupyter-widgets/controls",
          "model_module_version": "1.5.0",
          "model_name": "HBoxModel",
          "state": {
            "_dom_classes": [],
            "_model_module": "@jupyter-widgets/controls",
            "_model_module_version": "1.5.0",
            "_model_name": "HBoxModel",
            "_view_count": null,
            "_view_module": "@jupyter-widgets/controls",
            "_view_module_version": "1.5.0",
            "_view_name": "HBoxView",
            "box_style": "",
            "children": [
              "IPY_MODEL_91ec9bd20c1a494ab9339f6806da06c7",
              "IPY_MODEL_a4a8dacdb4bc471b9a56b2258ef8cf94",
              "IPY_MODEL_dfa9b9c9b54a444394897c8243ac71eb"
            ],
            "layout": "IPY_MODEL_aafc1003faa94c99a72fdb8ec26603af"
          }
        },
        "91ec9bd20c1a494ab9339f6806da06c7": {
          "model_module": "@jupyter-widgets/controls",
          "model_module_version": "1.5.0",
          "model_name": "HTMLModel",
          "state": {
            "_dom_classes": [],
            "_model_module": "@jupyter-widgets/controls",
            "_model_module_version": "1.5.0",
            "_model_name": "HTMLModel",
            "_view_count": null,
            "_view_module": "@jupyter-widgets/controls",
            "_view_module_version": "1.5.0",
            "_view_name": "HTMLView",
            "description": "",
            "description_tooltip": null,
            "layout": "IPY_MODEL_f5c54c4755bf405fbc057d5ba313e43f",
            "placeholder": "​",
            "style": "IPY_MODEL_44c37e020e6c41bf99c5b447deae442b",
            "value": "Epoch 1: 100%"
          }
        },
        "94fe90acfdb845ffa6e6195a625f95e9": {
          "model_module": "@jupyter-widgets/controls",
          "model_module_version": "1.5.0",
          "model_name": "FloatProgressModel",
          "state": {
            "_dom_classes": [],
            "_model_module": "@jupyter-widgets/controls",
            "_model_module_version": "1.5.0",
            "_model_name": "FloatProgressModel",
            "_view_count": null,
            "_view_module": "@jupyter-widgets/controls",
            "_view_module_version": "1.5.0",
            "_view_name": "ProgressView",
            "bar_style": "success",
            "description": "",
            "description_tooltip": null,
            "layout": "IPY_MODEL_101b39654b7743e3bf229181c1204956",
            "max": 1875,
            "min": 0,
            "orientation": "horizontal",
            "style": "IPY_MODEL_876f5a9d98ec48de9291cde244115b0c",
            "value": 1875
          }
        },
        "9896bf85c85b426ba22400bb5164967c": {
          "model_module": "@jupyter-widgets/base",
          "model_module_version": "1.2.0",
          "model_name": "LayoutModel",
          "state": {
            "_model_module": "@jupyter-widgets/base",
            "_model_module_version": "1.2.0",
            "_model_name": "LayoutModel",
            "_view_count": null,
            "_view_module": "@jupyter-widgets/base",
            "_view_module_version": "1.2.0",
            "_view_name": "LayoutView",
            "align_content": null,
            "align_items": null,
            "align_self": null,
            "border": null,
            "bottom": null,
            "display": null,
            "flex": null,
            "flex_flow": null,
            "grid_area": null,
            "grid_auto_columns": null,
            "grid_auto_flow": null,
            "grid_auto_rows": null,
            "grid_column": null,
            "grid_gap": null,
            "grid_row": null,
            "grid_template_areas": null,
            "grid_template_columns": null,
            "grid_template_rows": null,
            "height": null,
            "justify_content": null,
            "justify_items": null,
            "left": null,
            "margin": null,
            "max_height": null,
            "max_width": null,
            "min_height": null,
            "min_width": null,
            "object_fit": null,
            "object_position": null,
            "order": null,
            "overflow": null,
            "overflow_x": null,
            "overflow_y": null,
            "padding": null,
            "right": null,
            "top": null,
            "visibility": null,
            "width": null
          }
        },
        "9bbc4a346a3e4d54bf5d507dcd477d78": {
          "model_module": "@jupyter-widgets/controls",
          "model_module_version": "1.5.0",
          "model_name": "HBoxModel",
          "state": {
            "_dom_classes": [],
            "_model_module": "@jupyter-widgets/controls",
            "_model_module_version": "1.5.0",
            "_model_name": "HBoxModel",
            "_view_count": null,
            "_view_module": "@jupyter-widgets/controls",
            "_view_module_version": "1.5.0",
            "_view_name": "HBoxView",
            "box_style": "",
            "children": [
              "IPY_MODEL_2b920aecdc404a77a91aa02316366cc2",
              "IPY_MODEL_652eda3eb1ab49fbb462f83f1fd9227e",
              "IPY_MODEL_e8f36bb6d7e84a30a600206156877ac0"
            ],
            "layout": "IPY_MODEL_65453b1749304793bcaecbf7305cd4e5"
          }
        },
        "a15c5b76559441e88636f0571df27c60": {
          "model_module": "@jupyter-widgets/controls",
          "model_module_version": "1.5.0",
          "model_name": "HTMLModel",
          "state": {
            "_dom_classes": [],
            "_model_module": "@jupyter-widgets/controls",
            "_model_module_version": "1.5.0",
            "_model_name": "HTMLModel",
            "_view_count": null,
            "_view_module": "@jupyter-widgets/controls",
            "_view_module_version": "1.5.0",
            "_view_name": "HTMLView",
            "description": "",
            "description_tooltip": null,
            "layout": "IPY_MODEL_78ace3993f564a618631759038028337",
            "placeholder": "​",
            "style": "IPY_MODEL_bc86611696a24368b10b5f92a9f358ef",
            "value": " 1875/1875 [00:50&lt;00:00, 39.30it/s]"
          }
        },
        "a4a8dacdb4bc471b9a56b2258ef8cf94": {
          "model_module": "@jupyter-widgets/controls",
          "model_module_version": "1.5.0",
          "model_name": "FloatProgressModel",
          "state": {
            "_dom_classes": [],
            "_model_module": "@jupyter-widgets/controls",
            "_model_module_version": "1.5.0",
            "_model_name": "FloatProgressModel",
            "_view_count": null,
            "_view_module": "@jupyter-widgets/controls",
            "_view_module_version": "1.5.0",
            "_view_name": "ProgressView",
            "bar_style": "success",
            "description": "",
            "description_tooltip": null,
            "layout": "IPY_MODEL_822768e7fca74af388130739c1865e59",
            "max": 1875,
            "min": 0,
            "orientation": "horizontal",
            "style": "IPY_MODEL_627d99fdc23d4e9a8c02c3f9aad9ce78",
            "value": 1875
          }
        },
        "aafc1003faa94c99a72fdb8ec26603af": {
          "model_module": "@jupyter-widgets/base",
          "model_module_version": "1.2.0",
          "model_name": "LayoutModel",
          "state": {
            "_model_module": "@jupyter-widgets/base",
            "_model_module_version": "1.2.0",
            "_model_name": "LayoutModel",
            "_view_count": null,
            "_view_module": "@jupyter-widgets/base",
            "_view_module_version": "1.2.0",
            "_view_name": "LayoutView",
            "align_content": null,
            "align_items": null,
            "align_self": null,
            "border": null,
            "bottom": null,
            "display": null,
            "flex": null,
            "flex_flow": null,
            "grid_area": null,
            "grid_auto_columns": null,
            "grid_auto_flow": null,
            "grid_auto_rows": null,
            "grid_column": null,
            "grid_gap": null,
            "grid_row": null,
            "grid_template_areas": null,
            "grid_template_columns": null,
            "grid_template_rows": null,
            "height": null,
            "justify_content": null,
            "justify_items": null,
            "left": null,
            "margin": null,
            "max_height": null,
            "max_width": null,
            "min_height": null,
            "min_width": null,
            "object_fit": null,
            "object_position": null,
            "order": null,
            "overflow": null,
            "overflow_x": null,
            "overflow_y": null,
            "padding": null,
            "right": null,
            "top": null,
            "visibility": null,
            "width": null
          }
        },
        "b5f4b0b8a227477eb43351283f40024b": {
          "model_module": "@jupyter-widgets/base",
          "model_module_version": "1.2.0",
          "model_name": "LayoutModel",
          "state": {
            "_model_module": "@jupyter-widgets/base",
            "_model_module_version": "1.2.0",
            "_model_name": "LayoutModel",
            "_view_count": null,
            "_view_module": "@jupyter-widgets/base",
            "_view_module_version": "1.2.0",
            "_view_name": "LayoutView",
            "align_content": null,
            "align_items": null,
            "align_self": null,
            "border": null,
            "bottom": null,
            "display": null,
            "flex": null,
            "flex_flow": null,
            "grid_area": null,
            "grid_auto_columns": null,
            "grid_auto_flow": null,
            "grid_auto_rows": null,
            "grid_column": null,
            "grid_gap": null,
            "grid_row": null,
            "grid_template_areas": null,
            "grid_template_columns": null,
            "grid_template_rows": null,
            "height": null,
            "justify_content": null,
            "justify_items": null,
            "left": null,
            "margin": null,
            "max_height": null,
            "max_width": null,
            "min_height": null,
            "min_width": null,
            "object_fit": null,
            "object_position": null,
            "order": null,
            "overflow": null,
            "overflow_x": null,
            "overflow_y": null,
            "padding": null,
            "right": null,
            "top": null,
            "visibility": null,
            "width": null
          }
        },
        "bc86611696a24368b10b5f92a9f358ef": {
          "model_module": "@jupyter-widgets/controls",
          "model_module_version": "1.5.0",
          "model_name": "DescriptionStyleModel",
          "state": {
            "_model_module": "@jupyter-widgets/controls",
            "_model_module_version": "1.5.0",
            "_model_name": "DescriptionStyleModel",
            "_view_count": null,
            "_view_module": "@jupyter-widgets/base",
            "_view_module_version": "1.2.0",
            "_view_name": "StyleView",
            "description_width": ""
          }
        },
        "c34db15e982d478caff269d6220ed200": {
          "model_module": "@jupyter-widgets/controls",
          "model_module_version": "1.5.0",
          "model_name": "ProgressStyleModel",
          "state": {
            "_model_module": "@jupyter-widgets/controls",
            "_model_module_version": "1.5.0",
            "_model_name": "ProgressStyleModel",
            "_view_count": null,
            "_view_module": "@jupyter-widgets/base",
            "_view_module_version": "1.2.0",
            "_view_name": "StyleView",
            "bar_color": null,
            "description_width": ""
          }
        },
        "c36b78ba170941769807f6cec1a42d43": {
          "model_module": "@jupyter-widgets/base",
          "model_module_version": "1.2.0",
          "model_name": "LayoutModel",
          "state": {
            "_model_module": "@jupyter-widgets/base",
            "_model_module_version": "1.2.0",
            "_model_name": "LayoutModel",
            "_view_count": null,
            "_view_module": "@jupyter-widgets/base",
            "_view_module_version": "1.2.0",
            "_view_name": "LayoutView",
            "align_content": null,
            "align_items": null,
            "align_self": null,
            "border": null,
            "bottom": null,
            "display": null,
            "flex": null,
            "flex_flow": null,
            "grid_area": null,
            "grid_auto_columns": null,
            "grid_auto_flow": null,
            "grid_auto_rows": null,
            "grid_column": null,
            "grid_gap": null,
            "grid_row": null,
            "grid_template_areas": null,
            "grid_template_columns": null,
            "grid_template_rows": null,
            "height": null,
            "justify_content": null,
            "justify_items": null,
            "left": null,
            "margin": null,
            "max_height": null,
            "max_width": null,
            "min_height": null,
            "min_width": null,
            "object_fit": null,
            "object_position": null,
            "order": null,
            "overflow": null,
            "overflow_x": null,
            "overflow_y": null,
            "padding": null,
            "right": null,
            "top": null,
            "visibility": null,
            "width": null
          }
        },
        "c8aa8155c23b48dea4a1fb3e65e89de3": {
          "model_module": "@jupyter-widgets/controls",
          "model_module_version": "1.5.0",
          "model_name": "DescriptionStyleModel",
          "state": {
            "_model_module": "@jupyter-widgets/controls",
            "_model_module_version": "1.5.0",
            "_model_name": "DescriptionStyleModel",
            "_view_count": null,
            "_view_module": "@jupyter-widgets/base",
            "_view_module_version": "1.2.0",
            "_view_name": "StyleView",
            "description_width": ""
          }
        },
        "cfd18957e36f406aabda7fffed88f9f0": {
          "model_module": "@jupyter-widgets/controls",
          "model_module_version": "1.5.0",
          "model_name": "HBoxModel",
          "state": {
            "_dom_classes": [],
            "_model_module": "@jupyter-widgets/controls",
            "_model_module_version": "1.5.0",
            "_model_name": "HBoxModel",
            "_view_count": null,
            "_view_module": "@jupyter-widgets/controls",
            "_view_module_version": "1.5.0",
            "_view_name": "HBoxView",
            "box_style": "",
            "children": [
              "IPY_MODEL_3e2c75df118242c8939b85114892cda2",
              "IPY_MODEL_94fe90acfdb845ffa6e6195a625f95e9",
              "IPY_MODEL_a15c5b76559441e88636f0571df27c60"
            ],
            "layout": "IPY_MODEL_c36b78ba170941769807f6cec1a42d43"
          }
        },
        "d77e60c14c764cc5b5789f12a68f3c38": {
          "model_module": "@jupyter-widgets/base",
          "model_module_version": "1.2.0",
          "model_name": "LayoutModel",
          "state": {
            "_model_module": "@jupyter-widgets/base",
            "_model_module_version": "1.2.0",
            "_model_name": "LayoutModel",
            "_view_count": null,
            "_view_module": "@jupyter-widgets/base",
            "_view_module_version": "1.2.0",
            "_view_name": "LayoutView",
            "align_content": null,
            "align_items": null,
            "align_self": null,
            "border": null,
            "bottom": null,
            "display": null,
            "flex": null,
            "flex_flow": null,
            "grid_area": null,
            "grid_auto_columns": null,
            "grid_auto_flow": null,
            "grid_auto_rows": null,
            "grid_column": null,
            "grid_gap": null,
            "grid_row": null,
            "grid_template_areas": null,
            "grid_template_columns": null,
            "grid_template_rows": null,
            "height": null,
            "justify_content": null,
            "justify_items": null,
            "left": null,
            "margin": null,
            "max_height": null,
            "max_width": null,
            "min_height": null,
            "min_width": null,
            "object_fit": null,
            "object_position": null,
            "order": null,
            "overflow": null,
            "overflow_x": null,
            "overflow_y": null,
            "padding": null,
            "right": null,
            "top": null,
            "visibility": null,
            "width": null
          }
        },
        "dfa9b9c9b54a444394897c8243ac71eb": {
          "model_module": "@jupyter-widgets/controls",
          "model_module_version": "1.5.0",
          "model_name": "HTMLModel",
          "state": {
            "_dom_classes": [],
            "_model_module": "@jupyter-widgets/controls",
            "_model_module_version": "1.5.0",
            "_model_name": "HTMLModel",
            "_view_count": null,
            "_view_module": "@jupyter-widgets/controls",
            "_view_module_version": "1.5.0",
            "_view_name": "HTMLView",
            "description": "",
            "description_tooltip": null,
            "layout": "IPY_MODEL_4eecc3ac07e747fb85c1386259247e75",
            "placeholder": "​",
            "style": "IPY_MODEL_f0199d23a09f4410b350a5b7bc0d5808",
            "value": " 1875/1875 [00:51&lt;00:00, 38.49it/s]"
          }
        },
        "e8f36bb6d7e84a30a600206156877ac0": {
          "model_module": "@jupyter-widgets/controls",
          "model_module_version": "1.5.0",
          "model_name": "HTMLModel",
          "state": {
            "_dom_classes": [],
            "_model_module": "@jupyter-widgets/controls",
            "_model_module_version": "1.5.0",
            "_model_name": "HTMLModel",
            "_view_count": null,
            "_view_module": "@jupyter-widgets/controls",
            "_view_module_version": "1.5.0",
            "_view_name": "HTMLView",
            "description": "",
            "description_tooltip": null,
            "layout": "IPY_MODEL_b5f4b0b8a227477eb43351283f40024b",
            "placeholder": "​",
            "style": "IPY_MODEL_c8aa8155c23b48dea4a1fb3e65e89de3",
            "value": " 770/1875 [00:20&lt;00:27, 39.56it/s]"
          }
        },
        "f0199d23a09f4410b350a5b7bc0d5808": {
          "model_module": "@jupyter-widgets/controls",
          "model_module_version": "1.5.0",
          "model_name": "DescriptionStyleModel",
          "state": {
            "_model_module": "@jupyter-widgets/controls",
            "_model_module_version": "1.5.0",
            "_model_name": "DescriptionStyleModel",
            "_view_count": null,
            "_view_module": "@jupyter-widgets/base",
            "_view_module_version": "1.2.0",
            "_view_name": "StyleView",
            "description_width": ""
          }
        },
        "f5c54c4755bf405fbc057d5ba313e43f": {
          "model_module": "@jupyter-widgets/base",
          "model_module_version": "1.2.0",
          "model_name": "LayoutModel",
          "state": {
            "_model_module": "@jupyter-widgets/base",
            "_model_module_version": "1.2.0",
            "_model_name": "LayoutModel",
            "_view_count": null,
            "_view_module": "@jupyter-widgets/base",
            "_view_module_version": "1.2.0",
            "_view_name": "LayoutView",
            "align_content": null,
            "align_items": null,
            "align_self": null,
            "border": null,
            "bottom": null,
            "display": null,
            "flex": null,
            "flex_flow": null,
            "grid_area": null,
            "grid_auto_columns": null,
            "grid_auto_flow": null,
            "grid_auto_rows": null,
            "grid_column": null,
            "grid_gap": null,
            "grid_row": null,
            "grid_template_areas": null,
            "grid_template_columns": null,
            "grid_template_rows": null,
            "height": null,
            "justify_content": null,
            "justify_items": null,
            "left": null,
            "margin": null,
            "max_height": null,
            "max_width": null,
            "min_height": null,
            "min_width": null,
            "object_fit": null,
            "object_position": null,
            "order": null,
            "overflow": null,
            "overflow_x": null,
            "overflow_y": null,
            "padding": null,
            "right": null,
            "top": null,
            "visibility": null,
            "width": null
          }
        },
        "f7d582da52f2457ca3fe4b102c4e366a": {
          "model_module": "@jupyter-widgets/controls",
          "model_module_version": "1.5.0",
          "model_name": "DescriptionStyleModel",
          "state": {
            "_model_module": "@jupyter-widgets/controls",
            "_model_module_version": "1.5.0",
            "_model_name": "DescriptionStyleModel",
            "_view_count": null,
            "_view_module": "@jupyter-widgets/base",
            "_view_module_version": "1.2.0",
            "_view_name": "StyleView",
            "description_width": ""
          }
        }
      }
    }
  },
  "nbformat": 4,
  "nbformat_minor": 0
}
