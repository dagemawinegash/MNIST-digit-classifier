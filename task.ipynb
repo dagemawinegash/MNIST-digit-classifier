{
 "cells": [
  {
   "cell_type": "markdown",
   "id": "8dcdc6e7",
   "metadata": {},
   "source": [
    "# MNIST Classification using Predictive Coding\n",
    "\n",
    "This notebook implements a Predictive Coding Network (PCN) for MNIST digit classification.\n",
    "\n",
    "## Setup and Imports\n",
    "The following cell sets up our environment with necessary PyTorch imports and checks for GPU availability.\n"
   ]
  },
  {
   "cell_type": "code",
   "execution_count": 1,
   "id": "dff24e30",
   "metadata": {},
   "outputs": [
    {
     "name": "stdout",
     "output_type": "stream",
     "text": [
      "Using device: cpu\n"
     ]
    }
   ],
   "source": [
    "import torch\n",
    "import torch.nn as nn\n",
    "import torchvision\n",
    "import torchvision.transforms as transforms\n",
    "import matplotlib.pyplot as plt\n",
    "from tqdm.notebook import tqdm\n",
    "\n",
    "# Check if GPU is available\n",
    "device = torch.device('cuda' if torch.cuda.is_available() else 'cpu')\n",
    "print(f\"Using device: {device}\")\n",
    "\n",
    "# to display matplotlib plots inline (directly below the cell)\n",
    "%matplotlib inline\n"
   ]
  },
  {
   "cell_type": "markdown",
   "id": "c10a2506",
   "metadata": {},
   "source": [
    "## Data Loading and Preprocessing\n",
    "\n",
    "Here we:\n",
    "1. Define data transformations (convert to tensor and normalize)\n",
    "2. Load the MNIST dataset for training and testing\n",
    "3. Create data loaders\n",
    "4. Print dataset statistics\n",
    "\n",
    "The MNIST dataset contains 60,000 training images and 10,000 test images of handwritten digits (0-9).\n"
   ]
  },
  {
   "cell_type": "code",
   "execution_count": 2,
   "id": "1938c77e",
   "metadata": {},
   "outputs": [
    {
     "name": "stdout",
     "output_type": "stream",
     "text": [
      "Training dataset size: 60000\n",
      "Test dataset size:     10000\n",
      "Number of batches in training: 1875\n",
      "Number of batches in testing:  313\n"
     ]
    }
   ],
   "source": [
    "transform = transforms.Compose([\n",
    "    transforms.ToTensor(),                   \n",
    "    transforms.Normalize((0.1307,), (0.3081,))  \n",
    "])\n",
    "\n",
    "# get the MNIST dataset\n",
    "train_dataset = torchvision.datasets.MNIST(\n",
    "    root='./data',\n",
    "    train=True,\n",
    "    transform=transform,\n",
    "    download=True\n",
    ")\n",
    "\n",
    "test_dataset = torchvision.datasets.MNIST(\n",
    "    root='./data',\n",
    "    train=False,\n",
    "    transform=transform\n",
    ")\n",
    "\n",
    "# create data loaders\n",
    "batch_size = 32\n",
    "train_loader = torch.utils.data.DataLoader(\n",
    "    dataset=train_dataset,\n",
    "    batch_size=batch_size,\n",
    "    shuffle=True\n",
    ")\n",
    "\n",
    "test_loader = torch.utils.data.DataLoader(\n",
    "    dataset=test_dataset,\n",
    "    batch_size=batch_size,\n",
    "    shuffle=False\n",
    ")\n",
    "\n",
    "print(f\"Training dataset size: {len(train_dataset)}\")\n",
    "print(f\"Test dataset size:     {len(test_dataset)}\")\n",
    "print(f\"Number of batches in training: {len(train_loader)}\")\n",
    "print(f\"Number of batches in testing:  {len(test_loader)}\")\n"
   ]
  },
  {
   "cell_type": "markdown",
   "id": "c4603e60",
   "metadata": {},
   "source": [
    "### visualize a batch of training images to understand our input data, vertify the data loaded correctly and see examples. \n",
    "\n"
   ]
  },
  {
   "cell_type": "code",
   "execution_count": 3,
   "id": "5f0cde09",
   "metadata": {},
   "outputs": [
    {
     "data": {
      "image/png": "[encoded data removed]",
      "text/plain": [
       "<Figure size 1200x400 with 12 Axes>"
      ]
     },
     "metadata": {},
     "output_type": "display_data"
    }
   ],
   "source": [
    "# get a batch of training data\n",
    "images, labels = next(iter(train_loader))\n",
    "\n",
    "fig = plt.figure(figsize=(12, 4))\n",
    "for i in range(12):\n",
    "    ax = fig.add_subplot(2, 6, i + 1)\n",
    "    # remove normalization\n",
    "    img = images[i].squeeze()\n",
    "    img = img * 0.3081 + 0.1307\n",
    "    ax.imshow(img, cmap='gray')\n",
    "    ax.set_title(f'Label: {labels[i].item()}')\n",
    "    ax.axis('off')\n",
    "plt.tight_layout()\n",
    "plt.show()\n"
   ]
  },
  {
   "cell_type": "markdown",
   "id": "42a0aa32",
   "metadata": {},
   "source": [
    "## Predictive Coding Architecture\n",
    "\n",
    "We define a simple architecture for our Predictive Coding Network:\n",
    "- Input layer: 784 units (28x28 flattened images)\n",
    "- Hidden layer 1: 256 units with ReLU activation\n",
    "- Hidden layer 2: 128 units with ReLU activation\n",
    "- Hidden layer 3: 64 units with ReLU activation\n",
    "- Output layer: 10 units (one per digit)\n",
    "\n",
    "Key features:\n",
    "- ReLU activation functions\n",
    "- Prediction function for forward pass\n",
    "- Lateral connections in hidden layers 2 and 3 \n"
   ]
  },
  {
   "cell_type": "code",
   "execution_count": 4,
   "id": "e04d4aed",
   "metadata": {},
   "outputs": [
    {
     "name": "stdout",
     "output_type": "stream",
     "text": [
      "PCMNISTNet(\n",
      "  (W1): Linear(in_features=784, out_features=256, bias=False)\n",
      "  (W2): Linear(in_features=256, out_features=128, bias=False)\n",
      "  (W3): Linear(in_features=128, out_features=64, bias=False)\n",
      "  (W4): Linear(in_features=64, out_features=10, bias=False)\n",
      "  (L2): Linear(in_features=128, out_features=128, bias=False)\n",
      "  (L3): Linear(in_features=64, out_features=64, bias=False)\n",
      ")\n"
     ]
    }
   ],
   "source": [
    "class PCMNISTNet(nn.Module):\n",
    "    def __init__(self):\n",
    "        super(PCMNISTNet, self).__init__()\n",
    "        self.W1 = nn.Linear(28*28, 256, bias=False)\n",
    "        self.W2 = nn.Linear(256, 128, bias=False)\n",
    "        self.W3 = nn.Linear(128, 64, bias=False)\n",
    "        self.W4 = nn.Linear(64, 10, bias=False)\n",
    "        # lateral connections for hidden layers 2 and 3\n",
    "        self.L2 = nn.Linear(128, 128, bias=False)\n",
    "        self.L3 = nn.Linear(64, 64, bias=False)\n",
    "        for layer in [self.L2, self.L3]:\n",
    "            nn.init.normal_(layer.weight, mean=0.0, std=0.01)\n",
    "            mask = ~torch.eye(layer.weight.shape[0], dtype=torch.bool)\n",
    "            layer.weight.data *= mask # to avoid self connection \n",
    "        self.act = torch.relu\n",
    "\n",
    "    def predict(self, x, lateral_strength=0.1):\n",
    "        # forward pass to initialize latent states\n",
    "        z0 = x.view(x.size(0), -1)\n",
    "        z1 = self.act(self.W1(z0))\n",
    "        z2_ff = self.act(self.W2(z1))\n",
    "        lat2 = self.act(self.L2(z2_ff))\n",
    "        z2 = z2_ff + lateral_strength * lat2\n",
    "        z3_ff = self.act(self.W3(z2))\n",
    "        lat3 = self.act(self.L3(z3_ff))\n",
    "        z3 = z3_ff + lateral_strength * lat3\n",
    "        z4 = self.W4(z3) # we want raw outputs here so no activation\n",
    "        return [z0, z1, z2, z3, z4]\n",
    "\n",
    "# Instantiate model\n",
    "model = PCMNISTNet().to(device)\n",
    "print(model)"
   ]
  },
  {
   "cell_type": "markdown",
   "id": "f67bc327",
   "metadata": {},
   "source": [
    "## Predictive Coding Training Function\n",
    "\n",
    "This function implements the predictive coding learning algorithm with lateral connections:\n",
    "\n",
    "- Runs multiple inference steps to iteratively update hidden states and minimize prediction errors.\n",
    "- Updates both feedforward and lateral weights based on final prediction errors.\n",
    "- Hyperparameters: `inference_steps`, `alpha` (latent state LR), `eta` (weight LR), `lateral_strength`."
   ]
  },
  {
   "cell_type": "code",
   "execution_count": 5,
   "id": "c16310ea",
   "metadata": {},
   "outputs": [],
   "source": [
    "inference_steps = 10\n",
    "alpha = 0.05 # latent state learning rate\n",
    "eta = 0.01 # weight learning rate\n",
    "lateral_strength = 0.1\n",
    "\n",
    "@torch.no_grad()\n",
    "def pc_train_batch(model, x, y_onehot):\n",
    "    zs = model.predict(x, lateral_strength=lateral_strength)\n",
    "    Ws = [model.W1, model.W2, model.W3, model.W4]\n",
    "    Ls = [model.L2, model.L3]\n",
    "    L = len(Ws)\n",
    "    zs[L] = y_onehot # clamps z4 with the true labels\n",
    "    for _ in range(inference_steps):\n",
    "        errors = [None]*(L+1)\n",
    "        for l in range(1, L+1):\n",
    "            if l < L:\n",
    "                ff_pred = model.act(Ws[l-1](zs[l-1]))\n",
    "                if l == 2:\n",
    "                    lat_pred = model.act(Ls[0](zs[l]))\n",
    "                    pred = ff_pred + lateral_strength * lat_pred\n",
    "                elif l == 3:\n",
    "                    lat_pred = model.act(Ls[1](zs[l]))\n",
    "                    pred = ff_pred + lateral_strength * lat_pred\n",
    "                else:\n",
    "                    pred = ff_pred\n",
    "            else:\n",
    "                pred = Ws[l-1](zs[l-1])\n",
    "            errors[l] = zs[l] - pred\n",
    "        # updating the activation states of the hidden layers\n",
    "        for l in range(1, L):\n",
    "            # the layer aligning itself with what the layer below says it should be\n",
    "            td = -errors[l] \n",
    "            # push zl in the direction that would reduce the error one layer up\n",
    "            bu = errors[l+1] @ Ws[l].weight \n",
    "            if l == 2:\n",
    "                lat = lateral_strength * (errors[l] @ Ls[0].weight)\n",
    "                zs[l] += alpha * (td + bu + lat)\n",
    "            elif l == 3:\n",
    "                lat = lateral_strength * (errors[l] @ Ls[1].weight)\n",
    "                zs[l] += alpha * (td + bu + lat)\n",
    "            else:\n",
    "                zs[l] += alpha * (td + bu)\n",
    "    final_errors = []\n",
    "    for l in range(1, L+1):\n",
    "        if l < L:\n",
    "            ff_pred = model.act(Ws[l-1](zs[l-1]))\n",
    "            if l == 2:\n",
    "                lat_pred = model.act(Ls[0](zs[l]))\n",
    "                pred = ff_pred + lateral_strength * lat_pred\n",
    "            elif l == 3:\n",
    "                lat_pred = model.act(Ls[1](zs[l]))\n",
    "                pred = ff_pred + lateral_strength * lat_pred\n",
    "            else:\n",
    "                pred = ff_pred\n",
    "        else:\n",
    "            pred = Ws[l-1](zs[l-1])\n",
    "        final_errors.append(zs[l] - pred)\n",
    "    # updating weights\n",
    "    for i, W in enumerate(Ws):\n",
    "        grad = final_errors[i].t() @ zs[i]\n",
    "        W.weight.data += eta * (grad / x.size(0)) # we divide by the batch size to normalize the average gradient\n",
    "    \n",
    "    # Update lateral weights for layers 2 and 3\n",
    "    for i, L_layer in enumerate(Ls):\n",
    "        l = i + 2\n",
    "        grad = final_errors[l-1].t() @ zs[l]\n",
    "        mask = ~torch.eye(L_layer.weight.shape[0], dtype=torch.bool, device=grad.device)\n",
    "        grad = grad * mask # to avoid self connection\n",
    "        L_layer.weight.data += eta * lateral_strength * (grad / x.size(0)) # we divide by the batch size to normalize the average gradient\n",
    "    return final_errors, zs"
   ]
  },
  {
   "cell_type": "markdown",
   "id": "703c378a",
   "metadata": {},
   "source": [
    "## Training Loop\n",
    "\n",
    "- Trains the predictive coding network for several epochs.\n",
    "- Tracks and prints the average prediction error and test accuracy after each epoch.\n",
    "- Evaluates the model on the test set at the end of every epoch.\n",
    "- Stores prediction errors and test accuracies for later analysis or plotting."
   ]
  },
  {
   "cell_type": "code",
   "execution_count": 6,
   "id": "0c044be4",
   "metadata": {},
   "outputs": [
    {
     "data": {
      "application/vnd.jupyter.widget-view+json": {
       "model_id": "e86394a28b29458db364d038382ceffc",
       "version_major": 2,
       "version_minor": 0
      },
      "text/plain": [
       "Epoch 1:   0%|          | 0/1875 [00:00<?, ?it/s]"
      ]
     },
     "metadata": {},
     "output_type": "display_data"
    },
    {
     "name": "stdout",
     "output_type": "stream",
     "text": [
      "Epoch 1:\n",
      "  Prediction error: 0.1232\n",
      "  Test accuracy: 0.6213\n"
     ]
    },
    {
     "data": {
      "application/vnd.jupyter.widget-view+json": {
       "model_id": "5110b84d4ec6418c99a8aaa7e638d2b7",
       "version_major": 2,
       "version_minor": 0
      },
      "text/plain": [
       "Epoch 2:   0%|          | 0/1875 [00:00<?, ?it/s]"
      ]
     },
     "metadata": {},
     "output_type": "display_data"
    },
    {
     "name": "stdout",
     "output_type": "stream",
     "text": [
      "Epoch 2:\n",
      "  Prediction error: 0.0908\n",
      "  Test accuracy: 0.7401\n"
     ]
    },
    {
     "data": {
      "application/vnd.jupyter.widget-view+json": {
       "model_id": "e13bb4ed31f9480ca14c652a9f53f43b",
       "version_major": 2,
       "version_minor": 0
      },
      "text/plain": [
       "Epoch 3:   0%|          | 0/1875 [00:00<?, ?it/s]"
      ]
     },
     "metadata": {},
     "output_type": "display_data"
    },
    {
     "name": "stdout",
     "output_type": "stream",
     "text": [
      "Epoch 3:\n",
      "  Prediction error: 0.0688\n",
      "  Test accuracy: 0.8003\n"
     ]
    },
    {
     "data": {
      "application/vnd.jupyter.widget-view+json": {
       "model_id": "987090cd0bac46d2b5819347387d9108",
       "version_major": 2,
       "version_minor": 0
      },
      "text/plain": [
       "Epoch 4:   0%|          | 0/1875 [00:00<?, ?it/s]"
      ]
     },
     "metadata": {},
     "output_type": "display_data"
    },
    {
     "name": "stdout",
     "output_type": "stream",
     "text": [
      "Epoch 4:\n",
      "  Prediction error: 0.0560\n",
      "  Test accuracy: 0.8268\n"
     ]
    },
    {
     "data": {
      "application/vnd.jupyter.widget-view+json": {
       "model_id": "95d148ec36124cb09fef7a20d73bb30f",
       "version_major": 2,
       "version_minor": 0
      },
      "text/plain": [
       "Epoch 5:   0%|          | 0/1875 [00:00<?, ?it/s]"
      ]
     },
     "metadata": {},
     "output_type": "display_data"
    },
    {
     "name": "stdout",
     "output_type": "stream",
     "text": [
      "Epoch 5:\n",
      "  Prediction error: 0.0481\n",
      "  Test accuracy: 0.8402\n"
     ]
    }
   ],
   "source": [
    "num_epochs = 5\n",
    "prediction_errors = []\n",
    "test_accuracies = []\n",
    "\n",
    "for epoch in range(1, num_epochs+1):\n",
    "    total_error = 0.0\n",
    "    batches = 0\n",
    "\n",
    "    model.train()\n",
    "    for images, labels in tqdm(train_loader, desc=f\"Epoch {epoch}\"):\n",
    "        images, labels = images.to(device), labels.to(device)\n",
    "        y_onehot = torch.zeros(images.size(0), 10, device=device)\n",
    "        y_onehot.scatter_(1, labels.view(-1,1), 1.0)\n",
    "\n",
    "        final_errors, _ = pc_train_batch(model, images, y_onehot)\n",
    "        batch_error = final_errors[-1].abs().mean().item() #computes the average absolute error across the batch\n",
    "        total_error += batch_error\n",
    "        batches += 1\n",
    "\n",
    "    avg_error = total_error / batches\n",
    "    prediction_errors.append(avg_error)\n",
    "\n",
    "    # Test accuracy\n",
    "    model.eval()\n",
    "    test_correct = 0\n",
    "    test_total = 0\n",
    "    with torch.no_grad():\n",
    "        for images, labels in test_loader:\n",
    "            images, labels = images.to(device), labels.to(device)\n",
    "            zs = model.predict(images)\n",
    "            preds = zs[-1].argmax(dim=1) # changes logits to classes\n",
    "            test_correct += (preds == labels).sum().item()\n",
    "            test_total += labels.size(0)\n",
    "\n",
    "    test_acc = test_correct / test_total\n",
    "    test_accuracies.append(test_acc)\n",
    "\n",
    "    print(f\"Epoch {epoch}:\")\n",
    "    print(f\"  Prediction error: {avg_error:.4f}\")\n",
    "    print(f\"  Test accuracy: {test_acc:.4f}\")"
   ]
  },
  {
   "cell_type": "code",
   "execution_count": null,
   "id": "cac9f872",
   "metadata": {},
   "outputs": [],
   "source": []
  }
 ],
 "metadata": {
  "kernelspec": {
   "display_name": "venv",
   "language": "python",
   "name": "python3"
  },
  "language_info": {
   "codemirror_mode": {
    "name": "ipython",
    "version": 3
   },
   "file_extension": ".py",
   "mimetype": "text/x-python",
   "name": "python",
   "nbconvert_exporter": "python",
   "pygments_lexer": "ipython3",
   "version": "3.12.1"
  }
 },
 "nbformat": 4,
 "nbformat_minor": 5
}
