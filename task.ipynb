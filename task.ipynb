{
 "cells": [
  {
   "cell_type": "markdown",
   "id": "8dcdc6e7",
   "metadata": {},
   "source": [
    "# MNIST Classification using Predictive Coding\n",
    "\n",
    "This notebook implements a Predictive Coding Network (PCN) for MNIST digit classification.\n",
    "\n",
    "## Setup and Imports\n",
    "The following cell sets up our environment with necessary PyTorch imports and checks for GPU availability.\n"
   ]
  },
  {
   "cell_type": "code",
   "execution_count": 1,
   "id": "dff24e30",
   "metadata": {},
   "outputs": [
    {
     "name": "stdout",
     "output_type": "stream",
     "text": [
      "Using device: cpu\n"
     ]
    }
   ],
   "source": [
    "import torch\n",
    "import torch.nn as nn\n",
    "import torch.optim as optim\n",
    "import torchvision\n",
    "import torchvision.transforms as transforms\n",
    "import matplotlib.pyplot as plt\n",
    "import numpy as np\n",
    "from tqdm.notebook import tqdm\n",
    "\n",
    "# Check if GPU is available\n",
    "device = torch.device('cuda' if torch.cuda.is_available() else 'cpu')\n",
    "print(f\"Using device: {device}\")\n",
    "\n",
    "# to display matplotlib plots inline (directly below the cell)\n",
    "%matplotlib inline\n"
   ]
  },
  {
   "cell_type": "markdown",
   "id": "c10a2506",
   "metadata": {},
   "source": [
    "## Data Loading and Preprocessing\n",
    "\n",
    "Here we:\n",
    "1. Define data transformations (convert to tensor and normalize)\n",
    "2. Load the MNIST dataset for training and testing\n",
    "3. Create data loaders\n",
    "4. Print dataset statistics\n",
    "\n",
    "The MNIST dataset contains 60,000 training images and 10,000 test images of handwritten digits (0-9).\n"
   ]
  },
  {
   "cell_type": "code",
   "execution_count": 2,
   "id": "1938c77e",
   "metadata": {},
   "outputs": [
    {
     "name": "stdout",
     "output_type": "stream",
     "text": [
      "Training dataset size: 60000\n",
      "Test dataset size:     10000\n",
      "Number of batches in training: 938\n",
      "Number of batches in testing:  157\n"
     ]
    }
   ],
   "source": [
    "transform = transforms.Compose([\n",
    "    transforms.ToTensor(),                   \n",
    "    transforms.Normalize((0.1307,), (0.3081,))  \n",
    "])\n",
    "\n",
    "# get the MNIST dataset\n",
    "train_dataset = torchvision.datasets.MNIST(\n",
    "    root='./data',\n",
    "    train=True,\n",
    "    transform=transform,\n",
    "    download=True\n",
    ")\n",
    "\n",
    "test_dataset = torchvision.datasets.MNIST(\n",
    "    root='./data',\n",
    "    train=False,\n",
    "    transform=transform\n",
    ")\n",
    "\n",
    "# create data loaders\n",
    "batch_size = 64\n",
    "train_loader = torch.utils.data.DataLoader(\n",
    "    dataset=train_dataset,\n",
    "    batch_size=batch_size,\n",
    "    shuffle=True\n",
    ")\n",
    "\n",
    "test_loader = torch.utils.data.DataLoader(\n",
    "    dataset=test_dataset,\n",
    "    batch_size=batch_size,\n",
    "    shuffle=False\n",
    ")\n",
    "\n",
    "print(f\"Training dataset size: {len(train_dataset)}\")\n",
    "print(f\"Test dataset size:     {len(test_dataset)}\")\n",
    "print(f\"Number of batches in training: {len(train_loader)}\")\n",
    "print(f\"Number of batches in testing:  {len(test_loader)}\")\n"
   ]
  },
  {
   "cell_type": "markdown",
   "id": "c4603e60",
   "metadata": {},
   "source": [
    "### visualize a batch of training images to understand our input data, vertify the data loaded correctly and see examples. \n",
    "\n"
   ]
  },
  {
   "cell_type": "code",
   "execution_count": 3,
   "id": "5f0cde09",
   "metadata": {},
   "outputs": [
    {
     "data": {
      "image/png": "[encoded data removed]",
      "text/plain": [
       "<Figure size 1200x400 with 12 Axes>"
      ]
     },
     "metadata": {},
     "output_type": "display_data"
    }
   ],
   "source": [
    "# get a batch of training data\n",
    "images, labels = next(iter(train_loader))\n",
    "\n",
    "fig = plt.figure(figsize=(12, 4))\n",
    "for i in range(12):\n",
    "    ax = fig.add_subplot(2, 6, i + 1)\n",
    "    # remove normalization\n",
    "    img = images[i].squeeze()\n",
    "    img = img * 0.3081 + 0.1307\n",
    "    ax.imshow(img, cmap='gray')\n",
    "    ax.set_title(f'Label: {labels[i].item()}')\n",
    "    ax.axis('off')\n",
    "plt.tight_layout()\n",
    "plt.show()\n"
   ]
  },
  {
   "cell_type": "code",
   "execution_count": null,
   "id": "42a0aa32",
   "metadata": {},
   "outputs": [],
   "source": []
  }
 ],
 "metadata": {
  "kernelspec": {
   "display_name": "venv",
   "language": "python",
   "name": "python3"
  },
  "language_info": {
   "codemirror_mode": {
    "name": "ipython",
    "version": 3
   },
   "file_extension": ".py",
   "mimetype": "text/x-python",
   "name": "python",
   "nbconvert_exporter": "python",
   "pygments_lexer": "ipython3",
   "version": "3.12.1"
  }
 },
 "nbformat": 4,
 "nbformat_minor": 5
}
